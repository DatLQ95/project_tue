{
 "metadata": {
  "language_info": {
   "codemirror_mode": {
    "name": "ipython",
    "version": 3
   },
   "file_extension": ".py",
   "mimetype": "text/x-python",
   "name": "python",
   "nbconvert_exporter": "python",
   "pygments_lexer": "ipython3",
   "version": "3.8.5-final"
  },
  "orig_nbformat": 2,
  "kernelspec": {
   "name": "tue_project",
   "display_name": "tue_project",
   "language": "python"
  }
 },
 "nbformat": 4,
 "nbformat_minor": 2,
 "cells": [
  {
   "cell_type": "code",
   "execution_count": 17,
   "metadata": {},
   "outputs": [],
   "source": [
    "import pandas as pd\n",
    "import numpy as np\n",
    "import matplotlib.pyplot as plt"
   ]
  },
  {
   "cell_type": "code",
   "execution_count": 18,
   "metadata": {},
   "outputs": [],
   "source": [
    "def parse_if_number(s):\n",
    "    try: return float(s)\n",
    "    except: return True if s==\"true\" else False if s==\"false\" else s if s else None\n",
    "\n",
    "def parse_ndarray(s):\n",
    "    return np.fromstring(s, sep=' ') if s else None"
   ]
  },
  {
   "cell_type": "code",
   "execution_count": 19,
   "metadata": {},
   "outputs": [],
   "source": [
    "aloha = pd.read_csv('/home/dat_luong/project_tue/omnet/omnetpp-5.6.2/samples/Metro_SC/results/result.csv', converters = {\n",
    "    'attrvalue': parse_if_number}, iterator=True, chunksize=1000)\n",
    "chunks1 = [ chunk[chunk['type'] == 'scalar'] for chunk in aloha ]\n",
    "# tmp = pd.concat(chunks)\n",
    "tmp = pd.concat(chunks1)\n"
   ]
  },
  {
   "cell_type": "code",
   "execution_count": 20,
   "metadata": {},
   "outputs": [],
   "source": [
    "scalars = tmp[(tmp.type=='scalar') | (tmp.type=='itervar')]"
   ]
  },
  {
   "cell_type": "code",
   "execution_count": 21,
   "metadata": {},
   "outputs": [
    {
     "output_type": "execute_result",
     "data": {
      "text/plain": [
       "                                   run    type                 module  \\\n",
       "71   General-0-20210118-23:23:26-12022  scalar  Metro_SC.Interface[0]   \n",
       "72   General-0-20210118-23:23:26-12022  scalar  Metro_SC.Interface[0]   \n",
       "73   General-0-20210118-23:23:26-12022  scalar  Metro_SC.Interface[0]   \n",
       "74   General-0-20210118-23:23:26-12022  scalar  Metro_SC.Interface[0]   \n",
       "75   General-0-20210118-23:23:26-12022  scalar  Metro_SC.Interface[0]   \n",
       "..                                 ...     ...                    ...   \n",
       "134  General-0-20210118-23:23:26-12022  scalar    Metro_SC.source[13]   \n",
       "135  General-0-20210118-23:23:26-12022  scalar    Metro_SC.source[14]   \n",
       "136  General-0-20210118-23:23:26-12022  scalar    Metro_SC.source[14]   \n",
       "137  General-0-20210118-23:23:26-12022  scalar    Metro_SC.source[15]   \n",
       "138  General-0-20210118-23:23:26-12022  scalar    Metro_SC.source[15]   \n",
       "\n",
       "                     name attrname attrvalue          value  \n",
       "71      #Messages latency      NaN      None       8.919585  \n",
       "72      #Messages arrived      NaN      None   28258.000000  \n",
       "73      #Messages latency      NaN      None       3.234197  \n",
       "74      #Messages arrived      NaN      None   28167.000000  \n",
       "75          #Messages Err      NaN      None       0.000000  \n",
       "..                    ...      ...       ...            ...  \n",
       "134         #Slot studied      NaN      None       0.000000  \n",
       "135  #MessagesendF source      NaN      None  135168.000000  \n",
       "136         #Slot studied      NaN      None       0.000000  \n",
       "137  #MessagesendF source      NaN      None  225999.000000  \n",
       "138         #Slot studied      NaN      None       0.000000  \n",
       "\n",
       "[68 rows x 7 columns]"
      ],
      "text/html": "<div>\n<style scoped>\n    .dataframe tbody tr th:only-of-type {\n        vertical-align: middle;\n    }\n\n    .dataframe tbody tr th {\n        vertical-align: top;\n    }\n\n    .dataframe thead th {\n        text-align: right;\n    }\n</style>\n<table border=\"1\" class=\"dataframe\">\n  <thead>\n    <tr style=\"text-align: right;\">\n      <th></th>\n      <th>run</th>\n      <th>type</th>\n      <th>module</th>\n      <th>name</th>\n      <th>attrname</th>\n      <th>attrvalue</th>\n      <th>value</th>\n    </tr>\n  </thead>\n  <tbody>\n    <tr>\n      <th>71</th>\n      <td>General-0-20210118-23:23:26-12022</td>\n      <td>scalar</td>\n      <td>Metro_SC.Interface[0]</td>\n      <td>#Messages latency</td>\n      <td>NaN</td>\n      <td>None</td>\n      <td>8.919585</td>\n    </tr>\n    <tr>\n      <th>72</th>\n      <td>General-0-20210118-23:23:26-12022</td>\n      <td>scalar</td>\n      <td>Metro_SC.Interface[0]</td>\n      <td>#Messages arrived</td>\n      <td>NaN</td>\n      <td>None</td>\n      <td>28258.000000</td>\n    </tr>\n    <tr>\n      <th>73</th>\n      <td>General-0-20210118-23:23:26-12022</td>\n      <td>scalar</td>\n      <td>Metro_SC.Interface[0]</td>\n      <td>#Messages latency</td>\n      <td>NaN</td>\n      <td>None</td>\n      <td>3.234197</td>\n    </tr>\n    <tr>\n      <th>74</th>\n      <td>General-0-20210118-23:23:26-12022</td>\n      <td>scalar</td>\n      <td>Metro_SC.Interface[0]</td>\n      <td>#Messages arrived</td>\n      <td>NaN</td>\n      <td>None</td>\n      <td>28167.000000</td>\n    </tr>\n    <tr>\n      <th>75</th>\n      <td>General-0-20210118-23:23:26-12022</td>\n      <td>scalar</td>\n      <td>Metro_SC.Interface[0]</td>\n      <td>#Messages Err</td>\n      <td>NaN</td>\n      <td>None</td>\n      <td>0.000000</td>\n    </tr>\n    <tr>\n      <th>...</th>\n      <td>...</td>\n      <td>...</td>\n      <td>...</td>\n      <td>...</td>\n      <td>...</td>\n      <td>...</td>\n      <td>...</td>\n    </tr>\n    <tr>\n      <th>134</th>\n      <td>General-0-20210118-23:23:26-12022</td>\n      <td>scalar</td>\n      <td>Metro_SC.source[13]</td>\n      <td>#Slot studied</td>\n      <td>NaN</td>\n      <td>None</td>\n      <td>0.000000</td>\n    </tr>\n    <tr>\n      <th>135</th>\n      <td>General-0-20210118-23:23:26-12022</td>\n      <td>scalar</td>\n      <td>Metro_SC.source[14]</td>\n      <td>#MessagesendF source</td>\n      <td>NaN</td>\n      <td>None</td>\n      <td>135168.000000</td>\n    </tr>\n    <tr>\n      <th>136</th>\n      <td>General-0-20210118-23:23:26-12022</td>\n      <td>scalar</td>\n      <td>Metro_SC.source[14]</td>\n      <td>#Slot studied</td>\n      <td>NaN</td>\n      <td>None</td>\n      <td>0.000000</td>\n    </tr>\n    <tr>\n      <th>137</th>\n      <td>General-0-20210118-23:23:26-12022</td>\n      <td>scalar</td>\n      <td>Metro_SC.source[15]</td>\n      <td>#MessagesendF source</td>\n      <td>NaN</td>\n      <td>None</td>\n      <td>225999.000000</td>\n    </tr>\n    <tr>\n      <th>138</th>\n      <td>General-0-20210118-23:23:26-12022</td>\n      <td>scalar</td>\n      <td>Metro_SC.source[15]</td>\n      <td>#Slot studied</td>\n      <td>NaN</td>\n      <td>None</td>\n      <td>0.000000</td>\n    </tr>\n  </tbody>\n</table>\n<p>68 rows × 7 columns</p>\n</div>"
     },
     "metadata": {},
     "execution_count": 21
    }
   ],
   "source": [
    "scalars\n"
   ]
  },
  {
   "cell_type": "code",
   "execution_count": 22,
   "metadata": {},
   "outputs": [
    {
     "output_type": "execute_result",
     "data": {
      "text/plain": [
       "                                  run    type                 module  \\\n",
       "71  General-0-20210118-23:23:26-12022  scalar  Metro_SC.Interface[0]   \n",
       "72  General-0-20210118-23:23:26-12022  scalar  Metro_SC.Interface[0]   \n",
       "73  General-0-20210118-23:23:26-12022  scalar  Metro_SC.Interface[0]   \n",
       "74  General-0-20210118-23:23:26-12022  scalar  Metro_SC.Interface[0]   \n",
       "75  General-0-20210118-23:23:26-12022  scalar  Metro_SC.Interface[0]   \n",
       "\n",
       "                 name attrname attrvalue         value  \n",
       "71  #Messages latency      NaN      None      8.919585  \n",
       "72  #Messages arrived      NaN      None  28258.000000  \n",
       "73  #Messages latency      NaN      None      3.234197  \n",
       "74  #Messages arrived      NaN      None  28167.000000  \n",
       "75      #Messages Err      NaN      None      0.000000  "
      ],
      "text/html": "<div>\n<style scoped>\n    .dataframe tbody tr th:only-of-type {\n        vertical-align: middle;\n    }\n\n    .dataframe tbody tr th {\n        vertical-align: top;\n    }\n\n    .dataframe thead th {\n        text-align: right;\n    }\n</style>\n<table border=\"1\" class=\"dataframe\">\n  <thead>\n    <tr style=\"text-align: right;\">\n      <th></th>\n      <th>run</th>\n      <th>type</th>\n      <th>module</th>\n      <th>name</th>\n      <th>attrname</th>\n      <th>attrvalue</th>\n      <th>value</th>\n    </tr>\n  </thead>\n  <tbody>\n    <tr>\n      <th>71</th>\n      <td>General-0-20210118-23:23:26-12022</td>\n      <td>scalar</td>\n      <td>Metro_SC.Interface[0]</td>\n      <td>#Messages latency</td>\n      <td>NaN</td>\n      <td>None</td>\n      <td>8.919585</td>\n    </tr>\n    <tr>\n      <th>72</th>\n      <td>General-0-20210118-23:23:26-12022</td>\n      <td>scalar</td>\n      <td>Metro_SC.Interface[0]</td>\n      <td>#Messages arrived</td>\n      <td>NaN</td>\n      <td>None</td>\n      <td>28258.000000</td>\n    </tr>\n    <tr>\n      <th>73</th>\n      <td>General-0-20210118-23:23:26-12022</td>\n      <td>scalar</td>\n      <td>Metro_SC.Interface[0]</td>\n      <td>#Messages latency</td>\n      <td>NaN</td>\n      <td>None</td>\n      <td>3.234197</td>\n    </tr>\n    <tr>\n      <th>74</th>\n      <td>General-0-20210118-23:23:26-12022</td>\n      <td>scalar</td>\n      <td>Metro_SC.Interface[0]</td>\n      <td>#Messages arrived</td>\n      <td>NaN</td>\n      <td>None</td>\n      <td>28167.000000</td>\n    </tr>\n    <tr>\n      <th>75</th>\n      <td>General-0-20210118-23:23:26-12022</td>\n      <td>scalar</td>\n      <td>Metro_SC.Interface[0]</td>\n      <td>#Messages Err</td>\n      <td>NaN</td>\n      <td>None</td>\n      <td>0.000000</td>\n    </tr>\n  </tbody>\n</table>\n</div>"
     },
     "metadata": {},
     "execution_count": 22
    }
   ],
   "source": [
    "a = scalars[scalars['module'] == 'Metro_SC.Interface[0]']\n",
    "a"
   ]
  },
  {
   "cell_type": "code",
   "execution_count": 23,
   "metadata": {},
   "outputs": [
    {
     "output_type": "execute_result",
     "data": {
      "text/plain": [
       "5"
      ]
     },
     "metadata": {},
     "execution_count": 23
    }
   ],
   "source": [
    "len(a)"
   ]
  },
  {
   "cell_type": "code",
   "execution_count": 24,
   "metadata": {},
   "outputs": [
    {
     "output_type": "execute_result",
     "data": {
      "text/plain": [
       "71    scalar\n",
       "72    scalar\n",
       "73    scalar\n",
       "74    scalar\n",
       "75    scalar\n",
       "Name: type, dtype: object"
      ]
     },
     "metadata": {},
     "execution_count": 24
    }
   ],
   "source": [
    "a.type"
   ]
  },
  {
   "cell_type": "code",
   "execution_count": 25,
   "metadata": {},
   "outputs": [
    {
     "output_type": "execute_result",
     "data": {
      "text/plain": [
       "71        8.919585\n",
       "72    28258.000000\n",
       "73        3.234197\n",
       "74    28167.000000\n",
       "75        0.000000\n",
       "Name: value, dtype: float64"
      ]
     },
     "metadata": {},
     "execution_count": 25
    }
   ],
   "source": [
    "a.value"
   ]
  },
  {
   "cell_type": "code",
   "execution_count": 26,
   "metadata": {},
   "outputs": [],
   "source": [
    "b = [scalars[scalars['module'] == 'Metro_SC.Interface[' + str(i) + ']'] for i in range(4)]"
   ]
  },
  {
   "cell_type": "code",
   "execution_count": 27,
   "metadata": {},
   "outputs": [
    {
     "output_type": "execute_result",
     "data": {
      "text/plain": [
       "[                                  run    type                 module  \\\n",
       " 71  General-0-20210118-23:23:26-12022  scalar  Metro_SC.Interface[0]   \n",
       " 72  General-0-20210118-23:23:26-12022  scalar  Metro_SC.Interface[0]   \n",
       " 73  General-0-20210118-23:23:26-12022  scalar  Metro_SC.Interface[0]   \n",
       " 74  General-0-20210118-23:23:26-12022  scalar  Metro_SC.Interface[0]   \n",
       " 75  General-0-20210118-23:23:26-12022  scalar  Metro_SC.Interface[0]   \n",
       " \n",
       "                  name attrname attrvalue         value  \n",
       " 71  #Messages latency      NaN      None      8.919585  \n",
       " 72  #Messages arrived      NaN      None  28258.000000  \n",
       " 73  #Messages latency      NaN      None      3.234197  \n",
       " 74  #Messages arrived      NaN      None  28167.000000  \n",
       " 75      #Messages Err      NaN      None      0.000000  ,\n",
       "                                   run    type                 module  \\\n",
       " 76  General-0-20210118-23:23:26-12022  scalar  Metro_SC.Interface[1]   \n",
       " 77  General-0-20210118-23:23:26-12022  scalar  Metro_SC.Interface[1]   \n",
       " 78  General-0-20210118-23:23:26-12022  scalar  Metro_SC.Interface[1]   \n",
       " 79  General-0-20210118-23:23:26-12022  scalar  Metro_SC.Interface[1]   \n",
       " 80  General-0-20210118-23:23:26-12022  scalar  Metro_SC.Interface[1]   \n",
       " \n",
       "                  name attrname attrvalue         value  \n",
       " 76  #Messages latency      NaN      None      9.723586  \n",
       " 77  #Messages arrived      NaN      None  40095.000000  \n",
       " 78  #Messages latency      NaN      None      7.214496  \n",
       " 79  #Messages arrived      NaN      None  33792.000000  \n",
       " 80      #Messages Err      NaN      None      0.000000  ,\n",
       "                                   run    type                 module  \\\n",
       " 81  General-0-20210118-23:23:26-12022  scalar  Metro_SC.Interface[2]   \n",
       " 82  General-0-20210118-23:23:26-12022  scalar  Metro_SC.Interface[2]   \n",
       " 83  General-0-20210118-23:23:26-12022  scalar  Metro_SC.Interface[2]   \n",
       " 84  General-0-20210118-23:23:26-12022  scalar  Metro_SC.Interface[2]   \n",
       " 85  General-0-20210118-23:23:26-12022  scalar  Metro_SC.Interface[2]   \n",
       " \n",
       "                  name attrname attrvalue         value  \n",
       " 81  #Messages latency      NaN      None      6.138620  \n",
       " 82  #Messages arrived      NaN      None  56761.000000  \n",
       " 83  #Messages latency      NaN      None     17.460469  \n",
       " 84  #Messages arrived      NaN      None  56499.000000  \n",
       " 85      #Messages Err      NaN      None      0.000000  ,\n",
       "                                   run    type                 module  \\\n",
       " 86  General-0-20210118-23:23:26-12022  scalar  Metro_SC.Interface[3]   \n",
       " 87  General-0-20210118-23:23:26-12022  scalar  Metro_SC.Interface[3]   \n",
       " 88  General-0-20210118-23:23:26-12022  scalar  Metro_SC.Interface[3]   \n",
       " 89  General-0-20210118-23:23:26-12022  scalar  Metro_SC.Interface[3]   \n",
       " 90  General-0-20210118-23:23:26-12022  scalar  Metro_SC.Interface[3]   \n",
       " \n",
       "                  name attrname attrvalue          value  \n",
       " 86  #Messages latency      NaN      None      28.952003  \n",
       " 87  #Messages arrived      NaN      None  141491.000000  \n",
       " 88  #Messages latency      NaN      None       4.859107  \n",
       " 89  #Messages arrived      NaN      None   20929.000000  \n",
       " 90      #Messages Err      NaN      None       0.000000  ]"
      ]
     },
     "metadata": {},
     "execution_count": 27
    }
   ],
   "source": [
    "b"
   ]
  },
  {
   "cell_type": "code",
   "execution_count": 28,
   "metadata": {},
   "outputs": [
    {
     "output_type": "execute_result",
     "data": {
      "text/plain": [
       "4"
      ]
     },
     "metadata": {},
     "execution_count": 28
    }
   ],
   "source": [
    "len(b)"
   ]
  },
  {
   "cell_type": "code",
   "execution_count": 48,
   "metadata": {},
   "outputs": [],
   "source": [
    "latency = list()\n",
    "for i in b:\n",
    "    name = i.name.tolist()\n",
    "    value = i.value.tolist()\n",
    "    no_app = 0\n",
    "    for j in range(len(i)):\n",
    "        if name[j] == \"#Messages latency\":\n",
    "            latency.append(value[j])"
   ]
  },
  {
   "cell_type": "code",
   "execution_count": 49,
   "metadata": {},
   "outputs": [
    {
     "output_type": "execute_result",
     "data": {
      "text/plain": [
       "[8.91958477,\n",
       " 3.23419721,\n",
       " 9.72358573,\n",
       " 7.21449614,\n",
       " 6.13861955,\n",
       " 17.46046904,\n",
       " 28.95200276,\n",
       " 4.85910689]"
      ]
     },
     "metadata": {},
     "execution_count": 49
    }
   ],
   "source": [
    "latency"
   ]
  },
  {
   "cell_type": "code",
   "execution_count": null,
   "metadata": {},
   "outputs": [],
   "source": [
    "final_latency = list()\n",
    "number_app = 2\n",
    "for i in number_app:\n",
    "    x = list()\n"
   ]
  }
 ]
}
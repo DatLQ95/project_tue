{
 "metadata": {
  "language_info": {
   "codemirror_mode": {
    "name": "ipython",
    "version": 3
   },
   "file_extension": ".py",
   "mimetype": "text/x-python",
   "name": "python",
   "nbconvert_exporter": "python",
   "pygments_lexer": "ipython3",
   "version": "3.8.6-final"
  },
  "orig_nbformat": 2,
  "kernelspec": {
   "name": "python38664bit1c759095cfe341deaa8c7b4f9708e15d",
   "display_name": "Python 3.8.6 64-bit",
   "language": "python"
  }
 },
 "nbformat": 4,
 "nbformat_minor": 2,
 "cells": [
  {
   "source": [
    "# Get metric #\n",
    "This is for getting the metrics from url:\n",
    "\n",
    "http://131.155.35.51:19999/api/v1/allmetrics?format=json\n",
    "\n",
    "http://131.155.35.52:19999/api/v1/allmetrics?format=json\n",
    "\n",
    "http://131.155.35.53:19999/api/v1/allmetrics?format=json\n",
    "\n",
    "http://131.155.35.54:19999/api/v1/allmetrics?format=json\n",
    "\n",
    "## Specification: ##\n",
    "Sampling rate: 1sec\n",
    "\n",
    "Data request: \n",
    "- Bankwidth coming in links:\n",
    "- CPU (maybe)\n"
   ],
   "cell_type": "markdown",
   "metadata": {}
  },
  {
   "cell_type": "code",
   "execution_count": 1,
   "metadata": {},
   "outputs": [
    {
     "output_type": "error",
     "ename": "ModuleNotFoundError",
     "evalue": "No module named 'numpy'",
     "traceback": [
      "\u001b[0;31m---------------------------------------------------------------------------\u001b[0m",
      "\u001b[0;31mModuleNotFoundError\u001b[0m                       Traceback (most recent call last)",
      "\u001b[0;32m<ipython-input-1-f6bae1106dc9>\u001b[0m in \u001b[0;36m<module>\u001b[0;34m\u001b[0m\n\u001b[1;32m      2\u001b[0m \u001b[0;32mimport\u001b[0m \u001b[0mtime\u001b[0m\u001b[0;34m\u001b[0m\u001b[0;34m\u001b[0m\u001b[0m\n\u001b[1;32m      3\u001b[0m \u001b[0;32mimport\u001b[0m \u001b[0mthreading\u001b[0m\u001b[0;34m\u001b[0m\u001b[0;34m\u001b[0m\u001b[0m\n\u001b[0;32m----> 4\u001b[0;31m \u001b[0;32mimport\u001b[0m \u001b[0mnumpy\u001b[0m\u001b[0;34m\u001b[0m\u001b[0;34m\u001b[0m\u001b[0m\n\u001b[0m\u001b[1;32m      5\u001b[0m \u001b[0;34m\u001b[0m\u001b[0m\n\u001b[1;32m      6\u001b[0m \u001b[0;31m# run this for a lot of time\u001b[0m\u001b[0;34m\u001b[0m\u001b[0;34m\u001b[0m\u001b[0;34m\u001b[0m\u001b[0m\n",
      "\u001b[0;31mModuleNotFoundError\u001b[0m: No module named 'numpy'"
     ]
    }
   ],
   "source": [
    "import urllib.request, json \n",
    "import time\n",
    "import threading\n",
    "import numpy\n",
    "\n",
    "# run this for a lot of time\n",
    "with urllib.request.urlopen(\"http://131.155.35.53:19999/api/v1/allmetrics?format=json\") as url:\n",
    "    data = json.loads(url.read().decode())\n",
    "print(data[\"system.cpu\"][\"dimensions\"][\"idle\"][\"value\"])\n",
    "print(data[\"mem.available\"][\"dimensions\"][\"MemAvailable\"][\"value\"])\n",
    "print(data[\"system.load\"][\"dimensions\"][\"load15\"][\"value\"])\n",
    "\n",
    "\n",
    "    # store your valyue to this fucking array\n",
    "    # print(json.dumps(data, indent=4))"
   ]
  },
  {
   "cell_type": "code",
   "execution_count": null,
   "metadata": {},
   "outputs": [],
   "source": []
  }
 ]
}